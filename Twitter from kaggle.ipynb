{
 "cells": [
  {
   "cell_type": "markdown",
   "metadata": {},
   "source": [
    "### Rukmini Annadata (222010326006)"
   ]
  },
  {
   "cell_type": "markdown",
   "metadata": {},
   "source": [
    "### Twitter Mining on 'Twitter US Airline Sentiment' dataset from Kaggle"
   ]
  },
  {
   "cell_type": "code",
   "execution_count": 1,
   "metadata": {},
   "outputs": [
    {
     "name": "stdout",
     "output_type": "stream",
     "text": [
      "Requirement already satisfied: pandas in c:\\users\\rukmi\\anaconda3\\lib\\site-packages (1.1.3)\n",
      "Requirement already satisfied: matplotlib in c:\\users\\rukmi\\anaconda3\\lib\\site-packages (3.3.2)\n",
      "Requirement already satisfied: prettytable in c:\\users\\rukmi\\anaconda3\\lib\\site-packages (3.9.0)\n",
      "Requirement already satisfied: nltk in c:\\users\\rukmi\\anaconda3\\lib\\site-packages (3.5)\n",
      "Requirement already satisfied: pytz>=2017.2 in c:\\users\\rukmi\\anaconda3\\lib\\site-packages (from pandas) (2020.1)\n",
      "Requirement already satisfied: python-dateutil>=2.7.3 in c:\\users\\rukmi\\anaconda3\\lib\\site-packages (from pandas) (2.8.1)\n",
      "Requirement already satisfied: numpy>=1.15.4 in c:\\users\\rukmi\\anaconda3\\lib\\site-packages (from pandas) (1.19.2)\n",
      "Requirement already satisfied: pyparsing!=2.0.4,!=2.1.2,!=2.1.6,>=2.0.3 in c:\\users\\rukmi\\anaconda3\\lib\\site-packages (from matplotlib) (2.4.7)\n",
      "Requirement already satisfied: cycler>=0.10 in c:\\users\\rukmi\\anaconda3\\lib\\site-packages (from matplotlib) (0.10.0)\n",
      "Requirement already satisfied: kiwisolver>=1.0.1 in c:\\users\\rukmi\\anaconda3\\lib\\site-packages (from matplotlib) (1.3.0)\n",
      "Requirement already satisfied: certifi>=2020.06.20 in c:\\users\\rukmi\\anaconda3\\lib\\site-packages (from matplotlib) (2020.6.20)\n",
      "Requirement already satisfied: pillow>=6.2.0 in c:\\users\\rukmi\\anaconda3\\lib\\site-packages (from matplotlib) (8.0.1)\n",
      "Requirement already satisfied: wcwidth in c:\\users\\rukmi\\anaconda3\\lib\\site-packages (from prettytable) (0.2.5)\n",
      "Requirement already satisfied: click in c:\\users\\rukmi\\anaconda3\\lib\\site-packages (from nltk) (7.1.2)\n",
      "Requirement already satisfied: regex in c:\\users\\rukmi\\anaconda3\\lib\\site-packages (from nltk) (2020.10.15)\n",
      "Requirement already satisfied: joblib in c:\\users\\rukmi\\anaconda3\\lib\\site-packages (from nltk) (0.17.0)\n",
      "Requirement already satisfied: tqdm in c:\\users\\rukmi\\anaconda3\\lib\\site-packages (from nltk) (4.50.2)\n",
      "Requirement already satisfied: six>=1.5 in c:\\users\\rukmi\\anaconda3\\lib\\site-packages (from python-dateutil>=2.7.3->pandas) (1.15.0)\n",
      "Note: you may need to restart the kernel to use updated packages.\n"
     ]
    }
   ],
   "source": [
    "pip install pandas matplotlib prettytable nltk"
   ]
  },
  {
   "cell_type": "code",
   "execution_count": 2,
   "metadata": {},
   "outputs": [],
   "source": [
    "import pandas as pd\n",
    "import matplotlib.pyplot as plt\n",
    "from prettytable import PrettyTable\n",
    "from nltk import FreqDist\n",
    "from nltk.tokenize import word_tokenize"
   ]
  },
  {
   "cell_type": "markdown",
   "metadata": {},
   "source": [
    "### Load the Twitter US Airline Sentiment dataset"
   ]
  },
  {
   "cell_type": "code",
   "execution_count": 3,
   "metadata": {},
   "outputs": [],
   "source": [
    "twitter_data = pd.read_csv('C:/Users/rukmi/OneDrive/Desktop/Tweets.csv')"
   ]
  },
  {
   "cell_type": "code",
   "execution_count": 4,
   "metadata": {},
   "outputs": [
    {
     "name": "stdout",
     "output_type": "stream",
     "text": [
      "       tweet_id airline_sentiment  airline_sentiment_confidence  \\\n",
      "0  5.703061e+17           neutral                        1.0000   \n",
      "1  5.703011e+17          positive                        0.3486   \n",
      "2  5.703011e+17           neutral                        0.6837   \n",
      "3  5.703010e+17          negative                        1.0000   \n",
      "4  5.703008e+17          negative                        1.0000   \n",
      "\n",
      "  negativereason  negativereason_confidence         airline  \\\n",
      "0            NaN                        NaN  Virgin America   \n",
      "1            NaN                     0.0000  Virgin America   \n",
      "2            NaN                        NaN  Virgin America   \n",
      "3     Bad Flight                     0.7033  Virgin America   \n",
      "4     Can't Tell                     1.0000  Virgin America   \n",
      "\n",
      "  airline_sentiment_gold        name negativereason_gold  retweet_count  \\\n",
      "0                    NaN     cairdin                 NaN              0   \n",
      "1                    NaN    jnardino                 NaN              0   \n",
      "2                    NaN  yvonnalynn                 NaN              0   \n",
      "3                    NaN    jnardino                 NaN              0   \n",
      "4                    NaN    jnardino                 NaN              0   \n",
      "\n",
      "                                                text tweet_coord  \\\n",
      "0                @VirginAmerica What @dhepburn said.         NaN   \n",
      "1  @VirginAmerica plus you've added commercials t...         NaN   \n",
      "2  @VirginAmerica I didn't today... Must mean I n...         NaN   \n",
      "3  @VirginAmerica it's really aggressive to blast...         NaN   \n",
      "4  @VirginAmerica and it's a really big bad thing...         NaN   \n",
      "\n",
      "      tweet_created tweet_location               user_timezone  \n",
      "0  24-02-2015 11:35            NaN  Eastern Time (US & Canada)  \n",
      "1  24-02-2015 11:15            NaN  Pacific Time (US & Canada)  \n",
      "2  24-02-2015 11:15      Lets Play  Central Time (US & Canada)  \n",
      "3  24-02-2015 11:15            NaN  Pacific Time (US & Canada)  \n",
      "4  24-02-2015 11:14            NaN  Pacific Time (US & Canada)  \n"
     ]
    }
   ],
   "source": [
    "# Display the first few rows of the dataset\n",
    "print(twitter_data.head())"
   ]
  },
  {
   "cell_type": "markdown",
   "metadata": {},
   "source": [
    "### Task 2: Anatomy of a Tweet"
   ]
  },
  {
   "cell_type": "code",
   "execution_count": 5,
   "metadata": {},
   "outputs": [],
   "source": [
    "def display_tweet_anatomy(tweet):\n",
    "    print(\"Tweet Anatomy:\")\n",
    "    print(f\"Tweet ID: {tweet['tweet_id']}\")\n",
    "    print(f\"Sentiment: {tweet['airline_sentiment']}\")\n",
    "    print(f\"User: {tweet['name']}\")\n",
    "    print(f\"Tweet Text: {tweet['text']}\")\n",
    "    print(f\"Retweet Count: {tweet['retweet_count']}\")\n",
    "    print(f\"Coordinates: {tweet['tweet_coord']}\")\n",
    "    print(f\"Created At: {tweet['tweet_created']}\")\n",
    "    print(f\"Location: {tweet['tweet_location']}\")\n",
    "    print(f\"Timezone: {tweet['user_timezone']}\")"
   ]
  },
  {
   "cell_type": "code",
   "execution_count": 6,
   "metadata": {},
   "outputs": [
    {
     "name": "stdout",
     "output_type": "stream",
     "text": [
      "Tweet Anatomy:\n",
      "Tweet ID: 5.7030613367776e+17\n",
      "Sentiment: neutral\n",
      "User: cairdin\n",
      "Tweet Text: @VirginAmerica What @dhepburn said.\n",
      "Retweet Count: 0\n",
      "Coordinates: nan\n",
      "Created At: 24-02-2015 11:35\n",
      "Location: nan\n",
      "Timezone: Eastern Time (US & Canada)\n"
     ]
    }
   ],
   "source": [
    "# Display anatomy for the first tweet\n",
    "display_tweet_anatomy(twitter_data.iloc[0])"
   ]
  },
  {
   "cell_type": "markdown",
   "metadata": {},
   "source": [
    "### Task 3: Extracting text, screen names, and hashtags from tweets"
   ]
  },
  {
   "cell_type": "code",
   "execution_count": 9,
   "metadata": {},
   "outputs": [
    {
     "name": "stdout",
     "output_type": "stream",
     "text": [
      "\n",
      "Extracted Information:\n",
      "Text: @VirginAmerica What @dhepburn said.\n",
      "User Mentions: VirginAmerica, dhepburn\n",
      "Hashtags: \n"
     ]
    }
   ],
   "source": [
    "# Task 3: Extracting text, screen names, and hashtags from tweets\n",
    "def extract_info_from_tweet(tweet):\n",
    "    text = tweet['text']\n",
    "    screen_names = ', '.join([user_mention[1:] for user_mention in text.split() if user_mention.startswith('@')])\n",
    "    hashtags = ', '.join([hashtag[1:] for hashtag in text.split() if hashtag.startswith('#')])\n",
    "    return text, screen_names, hashtags\n",
    "\n",
    "# Extract information for the first tweet\n",
    "text, screen_names, hashtags = extract_info_from_tweet(twitter_data.iloc[0])\n",
    "print(\"\\nExtracted Information:\")\n",
    "print(f\"Text: {text}\")\n",
    "print(f\"User Mentions: {screen_names}\")\n",
    "print(f\"Hashtags: {hashtags}\")\n"
   ]
  },
  {
   "cell_type": "markdown",
   "metadata": {},
   "source": [
    "### Task 4: Creating a basic frequency distribution from the words in tweets"
   ]
  },
  {
   "cell_type": "code",
   "execution_count": 10,
   "metadata": {},
   "outputs": [],
   "source": [
    "def create_word_frequency_distribution(text_column):\n",
    "    words = ' '.join(text_column.dropna()).lower().split()\n",
    "    word_freq = FreqDist(words)\n",
    "    return word_freq"
   ]
  },
  {
   "cell_type": "code",
   "execution_count": 11,
   "metadata": {},
   "outputs": [],
   "source": [
    "# Apply lowercase to the 'text' column, drop NaN values\n",
    "word_freq = create_word_frequency_distribution(twitter_data['text'].str.lower())"
   ]
  },
  {
   "cell_type": "markdown",
   "metadata": {},
   "source": [
    "### Task 5: Using prettytable to display tuples in a nice tabular format"
   ]
  },
  {
   "cell_type": "code",
   "execution_count": 13,
   "metadata": {},
   "outputs": [
    {
     "name": "stdout",
     "output_type": "stream",
     "text": [
      "Word Frequency Table:\n",
      "+---------+-----------+\n",
      "|   Word  | Frequency |\n",
      "+---------+-----------+\n",
      "|    to   |    8590   |\n",
      "|   the   |    6034   |\n",
      "|    i    |    5351   |\n",
      "|    a    |    4461   |\n",
      "|   for   |    3964   |\n",
      "| @united |    3760   |\n",
      "|   and   |    3693   |\n",
      "|    on   |    3652   |\n",
      "|   you   |    3607   |\n",
      "|    my   |    3272   |\n",
      "+---------+-----------+\n"
     ]
    }
   ],
   "source": [
    "from prettytable import PrettyTable\n",
    "\n",
    "def display_word_frequency_table(word_freq):\n",
    "    table = PrettyTable([\"Word\", \"Frequency\"])\n",
    "    for word, freq in word_freq.most_common(10):\n",
    "        table.add_row([word, freq])\n",
    "    print(\"Word Frequency Table:\")\n",
    "    print(table)\n",
    "\n",
    "# Assuming you have already created a word_freq object\n",
    "# and now you want to display the word frequency table\n",
    "display_word_frequency_table(word_freq)\n"
   ]
  },
  {
   "cell_type": "code",
   "execution_count": 14,
   "metadata": {},
   "outputs": [
    {
     "name": "stdout",
     "output_type": "stream",
     "text": [
      "Word Frequency Table:\n",
      "+---------+-----------+\n",
      "|   Word  | Frequency |\n",
      "+---------+-----------+\n",
      "|    to   |    8590   |\n",
      "|   the   |    6034   |\n",
      "|    i    |    5351   |\n",
      "|    a    |    4461   |\n",
      "|   for   |    3964   |\n",
      "| @united |    3760   |\n",
      "|   and   |    3693   |\n",
      "|    on   |    3652   |\n",
      "|   you   |    3607   |\n",
      "|    my   |    3272   |\n",
      "+---------+-----------+\n"
     ]
    }
   ],
   "source": [
    "# Display the word frequency table\n",
    "display_word_frequency_table(word_freq)"
   ]
  },
  {
   "cell_type": "code",
   "execution_count": 16,
   "metadata": {},
   "outputs": [
    {
     "name": "stderr",
     "output_type": "stream",
     "text": [
      "[nltk_data] Downloading package punkt to\n",
      "[nltk_data]     C:\\Users\\rukmi\\AppData\\Roaming\\nltk_data...\n",
      "[nltk_data]   Unzipping tokenizers\\punkt.zip.\n"
     ]
    },
    {
     "data": {
      "text/plain": [
       "True"
      ]
     },
     "execution_count": 16,
     "metadata": {},
     "output_type": "execute_result"
    }
   ],
   "source": [
    "import nltk\n",
    "nltk.download('punkt')"
   ]
  },
  {
   "cell_type": "markdown",
   "metadata": {},
   "source": [
    "### Task 6: Calculating lexical diversity for tweets"
   ]
  },
  {
   "cell_type": "code",
   "execution_count": 19,
   "metadata": {},
   "outputs": [
    {
     "name": "stdout",
     "output_type": "stream",
     "text": [
      "\n",
      "Lexical Diversity for Tweets:\n",
      "                                                text  lexical_diversity\n",
      "0                @VirginAmerica What @dhepburn said.           0.857143\n",
      "1  @VirginAmerica plus you've added commercials t...           1.000000\n",
      "2  @VirginAmerica I didn't today... Must mean I n...           0.937500\n",
      "3  @VirginAmerica it's really aggressive to blast...           1.000000\n",
      "4  @VirginAmerica and it's a really big bad thing...           0.916667\n"
     ]
    }
   ],
   "source": [
    "import pandas as pd\n",
    "from nltk import word_tokenize\n",
    "\n",
    "# Calculate lexical diversity for tweets\n",
    "twitter_data['lexical_diversity'] = twitter_data['text'].apply(lambda x: len(set(word_tokenize(str(x).lower()))) / len(word_tokenize(str(x).lower())))\n",
    "\n",
    "# Display lexical diversity column\n",
    "print(\"\\nLexical Diversity for Tweets:\")\n",
    "print(twitter_data[['text', 'lexical_diversity']].head())\n"
   ]
  },
  {
   "cell_type": "markdown",
   "metadata": {},
   "source": [
    "### Task 7: Finding the most popular retweets"
   ]
  },
  {
   "cell_type": "code",
   "execution_count": 21,
   "metadata": {},
   "outputs": [
    {
     "name": "stdout",
     "output_type": "stream",
     "text": [
      "\n",
      "Most Popular Retweets:\n",
      "                                                    text  retweet_count\n",
      "11596  @USAirways 5 hr flight delay and a delay when ...             44\n",
      "11582  @USAirways of course never again tho . Thanks ...             32\n",
      "7132   STOP. USING.THIS.WORD. IF. YOU'RE. A. COMPANY....             31\n",
      "9999   @USAirways with this livery back in the day. h...             28\n",
      "5607   @SouthwestAir beautiful day in Seattle! http:/...             22\n",
      "7115   can you not? RT @JetBlue Our fleet's on fleek....             22\n",
      "7027   Just in case you needed confirmation that \"on ...             18\n",
      "7111   X____x RT @JetBlue: Our fleet's on fleek. http...             15\n",
      "7453   @JetBlue what a great experience on flight fro...             11\n",
      "9453   @USAirways Wow unbelievable how you treat your...              9\n"
     ]
    }
   ],
   "source": [
    "most_popular_retweets = twitter_data.sort_values(by='retweet_count', ascending=False).head(10)\n",
    "print(\"\\nMost Popular Retweets:\")\n",
    "print(most_popular_retweets[['text', 'retweet_count']])"
   ]
  },
  {
   "cell_type": "markdown",
   "metadata": {},
   "source": [
    "### Task 8: Looking up users who have retweeted a status"
   ]
  },
  {
   "cell_type": "code",
   "execution_count": 24,
   "metadata": {},
   "outputs": [
    {
     "name": "stdout",
     "output_type": "stream",
     "text": [
      "\n",
      "Users Who Have Retweeted:\n",
      "      retweeted_user  total_retweets\n",
      "0        1234567890_               1\n",
      "1            1LovePT               1\n",
      "2     2533107724Paul               2\n",
      "3          4wordSOUL               2\n",
      "4      ADolledUpBlog               2\n",
      "..               ...             ...\n",
      "603    yorkshire2002               2\n",
      "604   your_ride_dear               1\n",
      "605  youroptimallife               1\n",
      "606     zackintheusa               1\n",
      "607        zacktzane               1\n",
      "\n",
      "[608 rows x 2 columns]\n"
     ]
    }
   ],
   "source": [
    "# Filter tweets that have been retweeted at least once\n",
    "retweeted_tweets = twitter_data[twitter_data['retweet_count'] > 0]\n",
    "\n",
    "# Group by retweeted user and count the number of retweets\n",
    "retweeting_users = retweeted_tweets.groupby('name')['retweet_count'].sum().reset_index()\n",
    "\n",
    "# Rename columns for clarity\n",
    "retweeting_users.columns = ['retweeted_user', 'total_retweets']\n",
    "\n",
    "# Display users who have retweeted and their total retweets\n",
    "print(\"\\nUsers Who Have Retweeted:\")\n",
    "print(retweeting_users)"
   ]
  },
  {
   "cell_type": "markdown",
   "metadata": {},
   "source": [
    "### Task 9: Plotting frequencies of words"
   ]
  },
  {
   "cell_type": "code",
   "execution_count": 28,
   "metadata": {},
   "outputs": [
    {
     "data": {
      "image/png": "[encoded data removed]",
      "text/plain": [
       "<Figure size 432x288 with 1 Axes>"
      ]
     },
     "metadata": {
      "needs_background": "light"
     },
     "output_type": "display_data"
    },
    {
     "data": {
      "image/png": "[encoded data removed]",
      "text/plain": [
       "<Figure size 432x288 with 1 Axes>"
      ]
     },
     "metadata": {
      "needs_background": "light"
     },
     "output_type": "display_data"
    }
   ],
   "source": [
    "word_freq.plot(20, cumulative=False)\n",
    "plt.title('Top 20 Words Frequency')\n",
    "plt.show()\n"
   ]
  },
  {
   "cell_type": "markdown",
   "metadata": {},
   "source": [
    "### Task 10: Generating histograms of words, screen names, and hashtags (Assuming 'entities' column is parsed)"
   ]
  },
  {
   "cell_type": "code",
   "execution_count": 33,
   "metadata": {},
   "outputs": [],
   "source": [
    "import json\n",
    "\n",
    "def parse_json(text):\n",
    "    try:\n",
    "        return json.loads(text)\n",
    "    except json.JSONDecodeError:\n",
    "        return {}\n",
    "\n",
    "# Apply the parsing function to the 'text' column\n",
    "twitter_data['text_parsed'] = twitter_data['text'].apply(parse_json)\n",
    "\n",
    "# Extract screen names and hashtags from the parsed 'text' column\n",
    "screen_name_freq = create_word_frequency_distribution(twitter_data['text_parsed'].apply(lambda x: ', '.join([user_mention['screen_name'] for user_mention in x.get('user_mentions', [])])))\n",
    "hashtag_freq = create_word_frequency_distribution(twitter_data['text_parsed'].apply(lambda x: ', '.join([hashtag['text'] for hashtag in x.get('hashtags', [])])))\n"
   ]
  },
  {
   "cell_type": "markdown",
   "metadata": {},
   "source": [
    "#### Generating a histogram of 'airline_sentiment_confidence''negativereason_confidence''retweet_count''lexical_diversity'"
   ]
  },
  {
   "cell_type": "code",
   "execution_count": 45,
   "metadata": {},
   "outputs": [
    {
     "data": {
      "image/png": "[encoded data removed]",
      "text/plain": [
       "<Figure size 432x288 with 1 Axes>"
      ]
     },
     "metadata": {
      "needs_background": "light"
     },
     "output_type": "display_data"
    },
    {
     "data": {
      "image/png": "[encoded data removed]",
      "text/plain": [
       "<Figure size 432x288 with 1 Axes>"
      ]
     },
     "metadata": {
      "needs_background": "light"
     },
     "output_type": "display_data"
    },
    {
     "data": {
      "image/png": "[encoded data removed]",
      "text/plain": [
       "<Figure size 432x288 with 1 Axes>"
      ]
     },
     "metadata": {
      "needs_background": "light"
     },
     "output_type": "display_data"
    },
    {
     "data": {
      "image/png": "[encoded data removed]",
      "text/plain": [
       "<Figure size 432x288 with 1 Axes>"
      ]
     },
     "metadata": {
      "needs_background": "light"
     },
     "output_type": "display_data"
    }
   ],
   "source": [
    "import matplotlib.pyplot as plt\n",
    "import pandas as pd\n",
    "\n",
    "# Columns to include in histograms\n",
    "numerical_columns = ['airline_sentiment_confidence', 'negativereason_confidence', 'retweet_count', 'lexical_diversity']\n",
    "\n",
    "# Loop through numerical columns and generate histograms\n",
    "for column in numerical_columns:\n",
    "    plt.hist(twitter_data[column].dropna(), bins=20)  # Drop NaN values for plotting\n",
    "    plt.title(column)\n",
    "    plt.ylabel(\"Number of items in bin\")\n",
    "    plt.xlabel(\"Bins (value ranges)\")\n",
    "    plt.show()\n"
   ]
  },
  {
   "cell_type": "markdown",
   "metadata": {},
   "source": [
    "### Task 11 -Generating a histogram of retweet counts"
   ]
  },
  {
   "cell_type": "code",
   "execution_count": 46,
   "metadata": {},
   "outputs": [
    {
     "data": {
      "image/png": "[encoded data removed]",
      "text/plain": [
       "<Figure size 432x288 with 1 Axes>"
      ]
     },
     "metadata": {
      "needs_background": "light"
     },
     "output_type": "display_data"
    }
   ],
   "source": [
    "import matplotlib.pyplot as plt\n",
    "\n",
    "# Extract retweet counts from the 'retweet_count' column\n",
    "retweet_counts = twitter_data['retweet_count'].dropna()\n",
    "\n",
    "# Generate a histogram of retweet counts\n",
    "plt.hist(retweet_counts, bins=20)  # You can adjust the number of bins as needed\n",
    "plt.title('Retweet Counts')\n",
    "plt.xlabel('Bins (number of times retweeted)')\n",
    "plt.ylabel('Number of tweets in bin')\n",
    "plt.show()\n"
   ]
  },
  {
   "cell_type": "markdown",
   "metadata": {},
   "source": [
    "## Task - 12 Sentimental Analysis"
   ]
  },
  {
   "cell_type": "code",
   "execution_count": 49,
   "metadata": {},
   "outputs": [
    {
     "name": "stdout",
     "output_type": "stream",
     "text": [
      "\n",
      "Sentiment Distribution:\n",
      "negative    9178\n",
      "neutral     3099\n",
      "positive    2363\n",
      "Name: airline_sentiment, dtype: int64\n"
     ]
    }
   ],
   "source": [
    "sentiment_distribution = twitter_data['airline_sentiment'].value_counts()\n",
    "print(\"\\nSentiment Distribution:\")\n",
    "print(sentiment_distribution)"
   ]
  },
  {
   "cell_type": "markdown",
   "metadata": {},
   "source": [
    "### Plot sentiment distribution"
   ]
  },
  {
   "cell_type": "code",
   "execution_count": 50,
   "metadata": {},
   "outputs": [
    {
     "data": {
      "image/png": "[encoded data removed]",
      "text/plain": [
       "<Figure size 432x288 with 1 Axes>"
      ]
     },
     "metadata": {
      "needs_background": "light"
     },
     "output_type": "display_data"
    }
   ],
   "source": [
    "sentiment_distribution.plot(kind='bar', color=['red', 'green', 'blue'])\n",
    "plt.title('Sentiment Distribution')\n",
    "plt.xlabel('Sentiment')\n",
    "plt.ylabel('Frequency')\n",
    "plt.show()"
   ]
  },
  {
   "cell_type": "code",
   "execution_count": 51,
   "metadata": {},
   "outputs": [
    {
     "name": "stderr",
     "output_type": "stream",
     "text": [
      "[nltk_data] Downloading package vader_lexicon to\n",
      "[nltk_data]     C:\\Users\\rukmi\\AppData\\Roaming\\nltk_data...\n"
     ]
    },
    {
     "data": {
      "text/plain": [
       "True"
      ]
     },
     "execution_count": 51,
     "metadata": {},
     "output_type": "execute_result"
    }
   ],
   "source": [
    "nltk.download('vader_lexicon')"
   ]
  },
  {
   "cell_type": "code",
   "execution_count": 54,
   "metadata": {},
   "outputs": [
    {
     "name": "stdout",
     "output_type": "stream",
     "text": [
      "Most Positive Tweet: \"@VirginAmerica plus you've added commercials to the experience... tacky.\"\n",
      "Most Negative Tweet: \"@VirginAmerica it's really aggressive to blast obnoxious \"entertainment\" in your guests' faces &amp; they have little recourse\"\n"
     ]
    },
    {
     "data": {
      "image/png": "[encoded data removed]",
      "text/plain": [
       "<Figure size 432x288 with 1 Axes>"
      ]
     },
     "metadata": {
      "needs_background": "light"
     },
     "output_type": "display_data"
    }
   ],
   "source": [
    "import nltk\n",
    "import numpy as np\n",
    "import pandas as pd\n",
    "import matplotlib.pyplot as plt\n",
    "from nltk.sentiment.vader import SentimentIntensityAnalyzer\n",
    "\n",
    "# 'airline_sentiment' column contains the sentiment labels in your DataFrame\n",
    "sentiment_labels = twitter_data['airline_sentiment']\n",
    "\n",
    "# Create a SentimentIntensityAnalyzer instance\n",
    "analyzer = SentimentIntensityAnalyzer()\n",
    "\n",
    "# Perform sentiment analysis on each tweet\n",
    "sentiment_scores = sentiment_labels.apply(lambda x: analyzer.polarity_scores(str(x))['compound'])\n",
    "\n",
    "# Add sentiment scores to the DataFrame\n",
    "twitter_data['sentiment_score'] = sentiment_scores\n",
    "\n",
    "# Find the most positive and most negative tweets\n",
    "most_positive_tweet = twitter_data.iloc[np.argmax(sentiment_scores)]['text']\n",
    "most_negative_tweet = twitter_data.iloc[np.argmin(sentiment_scores)]['text']\n",
    "\n",
    "# Display the most positive and most negative tweets\n",
    "print(f'Most Positive Tweet: \"{most_positive_tweet}\"')\n",
    "print(f'Most Negative Tweet: \"{most_negative_tweet}\"')\n",
    "\n",
    "# Histogram of sentiment scores\n",
    "twitter_data['sentiment_score'].hist(bins=20, edgecolor='black')\n",
    "plt.title('Distribution of Sentiment Scores')\n",
    "plt.xlabel('Sentiment Score')\n",
    "plt.ylabel('Number of Tweets')\n",
    "plt.show()"
   ]
  },
  {
   "cell_type": "code",
   "execution_count": null,
   "metadata": {},
   "outputs": [],
   "source": []
  }
 ],
 "metadata": {
  "kernelspec": {
   "display_name": "Python 3",
   "language": "python",
   "name": "python3"
  },
  "language_info": {
   "codemirror_mode": {
    "name": "ipython",
    "version": 3
   },
   "file_extension": ".py",
   "mimetype": "text/x-python",
   "name": "python",
   "nbconvert_exporter": "python",
   "pygments_lexer": "ipython3",
   "version": "3.8.5"
  }
 },
 "nbformat": 4,
 "nbformat_minor": 4
}
